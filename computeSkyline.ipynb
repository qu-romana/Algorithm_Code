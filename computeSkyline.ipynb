{
  "nbformat": 4,
  "nbformat_minor": 0,
  "metadata": {
    "colab": {
      "provenance": []
    },
    "kernelspec": {
      "name": "python3",
      "display_name": "Python 3"
    },
    "language_info": {
      "name": "python"
    }
  },
  "cells": [
    {
      "cell_type": "code",
      "execution_count": null,
      "metadata": {
        "colab": {
          "base_uri": "https://localhost:8080/"
        },
        "id": "I9t2nPYGPc8Z",
        "outputId": "d4f04f4c-b4d8-4fc9-dce9-bc1f6bc934bb"
      },
      "outputs": [
        {
          "output_type": "stream",
          "name": "stdout",
          "text": [
            "[1, 11, 4, 8, 2, 15, 8, 20, 7, 0]\n"
          ]
        }
      ],
      "source": [
        "def computeSkyline(buildings):\n",
        "    n = len(buildings)\n",
        "    if n == 0:\n",
        "        return []\n",
        "    elif n == 1:\n",
        "        L, H, R = buildings[0]\n",
        "        return [(L, H), (R, 0)]\n",
        "    else:\n",
        "        mid = n // 2\n",
        "        left_buildings = buildings[:mid]\n",
        "        right_buildings = buildings[mid:]\n",
        "        left_skyline = computeSkyline(left_buildings)\n",
        "        right_skyline = computeSkyline(right_buildings)\n",
        "        return mergeSkylines(left_skyline, right_skyline)\n",
        "\n",
        "def mergeSkylines(left, right):\n",
        "    h1 = h2 = 0\n",
        "    i = j = 0\n",
        "    result = []\n",
        "    while i < len(left) and j < len(right):\n",
        "        # Compare x-coordinates\n",
        "        if left[i][0] < right[j][0]:\n",
        "            x, h1 = left[i]\n",
        "            i += 1\n",
        "        elif left[i][0] > right[j][0]:\n",
        "            x, h2 = right[j]\n",
        "            j += 1\n",
        "        else:\n",
        "            x = left[i][0]\n",
        "            h1 = left[i][1]\n",
        "            h2 = right[j][1]\n",
        "            i += 1\n",
        "            j += 1\n",
        "        maxH = max(h1, h2)\n",
        "        # If the height changes from previous height, append new point\n",
        "        if not result or result[-1][1] != maxH:\n",
        "            result.append((x, maxH))\n",
        "    # Append remaining points\n",
        "    result.extend(left[i:])\n",
        "    result.extend(right[j:])\n",
        "    return result\n",
        "\n",
        "def formatSkylineOutput(skyline):\n",
        "    output = []\n",
        "    if skyline:\n",
        "        x_prev, h_prev = skyline[0]\n",
        "        output.extend([x_prev, h_prev])\n",
        "        for i in range(1, len(skyline)):\n",
        "            x_curr, h_curr = skyline[i]\n",
        "            delta_x = x_curr - x_prev\n",
        "            output.extend([delta_x, h_curr])\n",
        "            x_prev = x_curr\n",
        "    return output\n",
        "\n",
        "# Buildings input in (L_k, H_k, R_k) format\n",
        "buildings = [\n",
        "    (1, 11, 5),\n",
        "    (3, 8, 10),\n",
        "    (7, 15, 20),\n",
        "    (15, 20, 22)\n",
        "]\n",
        "\n",
        "# Ensure buildings are sorted by left x-coordinate\n",
        "buildings.sort(key=lambda b: b[0])\n",
        "\n",
        "# Compute skyline\n",
        "skyline = computeSkyline(buildings)\n",
        "\n",
        "# Convert skyline to the required output format\n",
        "output = []\n",
        "output=formatSkylineOutput(skyline)\n",
        "\n",
        "# Print the output\n",
        "print(output)\n"
      ]
    }
  ]
}